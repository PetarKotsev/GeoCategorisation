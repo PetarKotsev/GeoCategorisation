{
 "cells": [
  {
   "cell_type": "code",
   "execution_count": 3,
   "metadata": {},
   "outputs": [],
   "source": [
    "from keras.models import load_model\n",
    "# Excell\n",
    "import openpyxl as xl\n",
    "import numpy as np"
   ]
  },
  {
   "cell_type": "markdown",
   "metadata": {},
   "source": [
    "## Loading properties"
   ]
  },
  {
   "cell_type": "code",
   "execution_count": 4,
   "metadata": {},
   "outputs": [],
   "source": [
    "# loading an existing workbook\n",
    "wb = xl.load_workbook('Geology Input for Petar Updated April 8th.xlsx')\n",
    "# Select the worksheet\n",
    "items_sheet = wb['Sheet1']\n",
    "# make an values only iterator over the items from row 5 to 15 and col 2 to 12.\n",
    "# turn it into a tuple. Take only the first element, the second one is empty\n",
    "terain_properties = list(items_sheet.iter_cols(min_row=1, max_col=2, min_col=2, values_only=True))[0]\n",
    "terain_properties = list(map(lambda x: x.strip(), terain_properties))"
   ]
  },
  {
   "cell_type": "markdown",
   "metadata": {},
   "source": [
    "## Loading model"
   ]
  },
  {
   "cell_type": "code",
   "execution_count": 5,
   "metadata": {},
   "outputs": [],
   "source": [
    "model = load_model('./models/newest.model')"
   ]
  },
  {
   "cell_type": "code",
   "execution_count": 6,
   "metadata": {},
   "outputs": [
    {
     "data": {
      "text/plain": [
       "array([[9.9997795e-01, 8.0952108e-01, 9.5698237e-04, 8.7790358e-01,\n",
       "        1.0606796e-02, 2.2702217e-03, 2.0220783e-01, 4.2424053e-02,\n",
       "        9.2892647e-01, 4.0798542e-01],\n",
       "       [8.5193527e-01, 9.9864709e-01, 6.2561405e-01, 1.6121128e-01,\n",
       "        6.6749942e-01, 1.0830760e-03, 1.4430553e-02, 7.2207367e-01,\n",
       "        1.2222862e-01, 5.7357836e-01],\n",
       "       [9.1758323e-01, 5.2902091e-01, 1.5107393e-03, 9.3196893e-01,\n",
       "        2.0645845e-01, 5.5284309e-01, 9.8686916e-01, 4.0784776e-03,\n",
       "        8.2983923e-01, 5.2148086e-01]], dtype=float32)"
      ]
     },
     "execution_count": 6,
     "metadata": {},
     "output_type": "execute_result"
    }
   ],
   "source": [
    "# env_char = input('Env: ')\n",
    "# organisms = input('Org: ')\n",
    "# sediment = input('Sediment: ')\n",
    "# grading = input('Grading: ')\n",
    "# sed_structures = input('Sediment structures: ')\n",
    "# sed_rocks = input('Sediment rocks: ')\n",
    "\n",
    "\n",
    "def getPredictions(predictionArr, properties):\n",
    "    statements = np.zeros((len(predictionArr), len(properties)))\n",
    "    for indx, line in enumerate(statements):\n",
    "        for prop in predictionArr[indx]:\n",
    "            line[properties.index(prop)] = 1.0\n",
    "    return model.predict(statements)\n",
    "\n",
    "query = [['Variable stream current', 'land-freshwater plants', 'gravel', 'fining upwards', 'crossbeds', 'conglomerate'],\n",
    "['Soil formation', 'land-freshwater plants', 'sand', 'fining upwards', 'bedding', 'mudstone (red beds)'],\n",
    "['Soil formation', 'land-freshwater plants', 'gravel', 'fining upwards', 'crossbeds', 'conglomerate']\n",
    "]\n",
    "\n",
    "getPredictions(query, terain_properties)\n"
   ]
  },
  {
   "cell_type": "code",
   "execution_count": 7,
   "metadata": {},
   "outputs": [],
   "source": [
    "# print (f'''1 River Channel: {}\n",
    "# 2) Flood Plain: {}\n",
    "# 3) River Delta:{}\n",
    "# 4) Alluvial Fan:{}\n",
    "# 5) Desert Dune:{}\n",
    "# 1) Beach:{}\n",
    "# 2) Lagoon:{}\n",
    "# 1) Shallow Marine:{}\n",
    "# 2) Reef:{}\n",
    "# 3) Deep Marine:{}\n",
    "# ''')"
   ]
  }
 ],
 "metadata": {
  "interpreter": {
   "hash": "0b6ce98c3096834a7a501856e3303731ddbe0942f37d88665ab51c442e15a354"
  },
  "kernelspec": {
   "display_name": "Python 3.10.1 64-bit",
   "language": "python",
   "name": "python3"
  },
  "language_info": {
   "codemirror_mode": {
    "name": "ipython",
    "version": 3
   },
   "file_extension": ".py",
   "mimetype": "text/x-python",
   "name": "python",
   "nbconvert_exporter": "python",
   "pygments_lexer": "ipython3",
   "version": "3.10.1"
  },
  "orig_nbformat": 4
 },
 "nbformat": 4,
 "nbformat_minor": 2
}
