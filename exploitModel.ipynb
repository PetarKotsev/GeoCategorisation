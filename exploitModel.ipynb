{
 "cells": [
  {
   "cell_type": "code",
   "execution_count": 31,
   "metadata": {},
   "outputs": [],
   "source": [
    "from keras.models import load_model\n",
    "# Excell\n",
    "import openpyxl as xl\n",
    "import numpy as np"
   ]
  },
  {
   "cell_type": "markdown",
   "metadata": {},
   "source": [
    "## Loading properties"
   ]
  },
  {
   "cell_type": "code",
   "execution_count": 32,
   "metadata": {},
   "outputs": [],
   "source": [
    "# loading an existing workbook\n",
    "wb = xl.load_workbook('Geology Input for Petar Updated April 8th.xlsx')\n",
    "# Select the worksheet\n",
    "items_sheet = wb['Sheet1']\n",
    "# make an values only iterator over the items from row 5 to 15 and col 2 to 12.\n",
    "# turn it into a tuple. Take only the first element, the second one is empty\n",
    "terain_properties = list(items_sheet.iter_cols(min_row=1, max_col=2, min_col=2, values_only=True))[0]\n",
    "terain_properties = list(map(lambda x: x.strip(), terain_properties))"
   ]
  },
  {
   "cell_type": "markdown",
   "metadata": {},
   "source": [
    "## Loading model"
   ]
  },
  {
   "cell_type": "code",
   "execution_count": 33,
   "metadata": {},
   "outputs": [],
   "source": [
    "model = load_model('./models/newest.model')"
   ]
  },
  {
   "cell_type": "code",
   "execution_count": 35,
   "metadata": {},
   "outputs": [
    {
     "data": {
      "text/plain": [
       "array([[9.9995887e-01, 1.2936547e-05, 7.5797188e-06, 1.2029266e-05,\n",
       "        8.5550619e-06],\n",
       "       [3.3124164e-04, 9.9818724e-01, 9.3661074e-04, 4.0049406e-04,\n",
       "        1.4431390e-04]], dtype=float32)"
      ]
     },
     "execution_count": 35,
     "metadata": {},
     "output_type": "execute_result"
    }
   ],
   "source": [
    "# env_char = input('Env: ')\n",
    "# organisms = input('Org: ')\n",
    "# sediment = input('Sediment: ')\n",
    "# grading = input('Grading: ')\n",
    "# sed_structures = input('Sediment structures: ')\n",
    "# sed_rocks = input('Sediment rocks: ')\n",
    "\n",
    "\n",
    "def getPredictions(predictionArr, properties):\n",
    "    statements = np.zeros((len(predictionArr), len(properties)))\n",
    "    for indx, line in enumerate(statements):\n",
    "        for prop in predictionArr[indx]:\n",
    "            statements[indx][properties.index(prop)] = 1.0\n",
    "    return model.predict(statements)\n",
    "\n",
    "query = [['Variable stream current', 'land-freshwater plants', 'gravel', 'fining upwards', 'crossbeds', 'conglomerate'],\n",
    "['Soil formation', 'land-freshwater plants', 'sand', 'fining upwards', 'bedding', 'mudstone (red beds)']\n",
    "]\n",
    "\n",
    "getPredictions(query, terain_properties)\n"
   ]
  },
  {
   "cell_type": "code",
   "execution_count": null,
   "metadata": {},
   "outputs": [],
   "source": []
  }
 ],
 "metadata": {
  "interpreter": {
   "hash": "0b6ce98c3096834a7a501856e3303731ddbe0942f37d88665ab51c442e15a354"
  },
  "kernelspec": {
   "display_name": "Python 3.10.1 64-bit",
   "language": "python",
   "name": "python3"
  },
  "language_info": {
   "codemirror_mode": {
    "name": "ipython",
    "version": 3
   },
   "file_extension": ".py",
   "mimetype": "text/x-python",
   "name": "python",
   "nbconvert_exporter": "python",
   "pygments_lexer": "ipython3",
   "version": "3.10.1"
  },
  "orig_nbformat": 4
 },
 "nbformat": 4,
 "nbformat_minor": 2
}
