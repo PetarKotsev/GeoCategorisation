{
 "cells": [
  {
   "cell_type": "markdown",
   "metadata": {},
   "source": [
    "## Requirements"
   ]
  },
  {
   "cell_type": "code",
   "execution_count": 17,
   "metadata": {},
   "outputs": [],
   "source": [
    "# Keras\n",
    "from keras.utils.np_utils import to_categorical\n",
    "from keras.models import Sequential, load_model\n",
    "from keras.layers import Dense\n",
    "# Util\n",
    "import numpy as np\n",
    "import matplotlib.pyplot as plt\n",
    "# Excell\n",
    "import openpyxl as xl"
   ]
  },
  {
   "cell_type": "markdown",
   "metadata": {},
   "source": [
    "## Processing data"
   ]
  },
  {
   "cell_type": "markdown",
   "metadata": {},
   "source": [
    "### Input leyer size"
   ]
  },
  {
   "cell_type": "code",
   "execution_count": 18,
   "metadata": {},
   "outputs": [],
   "source": [
    "# loading an existing workbook\n",
    "wb = xl.load_workbook('Geology Input for Petar Updated April 8th.xlsx')\n",
    "# Select the worksheet\n",
    "items_sheet = wb['Sheet1']\n",
    "# make an values only iterator over the items from row 5 to 15 and col 2 to 12.\n",
    "# turn it into a tuple. Take only the first element, the second one is empty\n",
    "terain_properties = list(items_sheet.iter_cols(min_row=1, max_col=2, min_col=2, values_only=True))[0]\n",
    "terain_properties = list(map(lambda x: x.strip().lower() , terain_properties))\n",
    "\n",
    "num_of_properties = len(terain_properties)"
   ]
  },
  {
   "cell_type": "markdown",
   "metadata": {},
   "source": [
    "### Getting training and testing data"
   ]
  },
  {
   "cell_type": "code",
   "execution_count": 19,
   "metadata": {},
   "outputs": [],
   "source": [
    "data_sheet = wb['Sheet2']\n",
    "\n",
    "river_channel_cols = tuple(data_sheet.iter_cols(min_row=4, max_row=9, min_col=3, max_col=8, values_only=True))\n",
    "river_channel_cols = [tuple(xi for xi in x if xi is not None) for x in river_channel_cols]\n",
    "\n",
    "flood_plane_cols = tuple(data_sheet.iter_cols(min_row=11, max_row=14, min_col=3, max_col=8, values_only=True))\n",
    "flood_plane_cols = [tuple(xi for xi in x if xi is not None) for x in flood_plane_cols]\n",
    "\n",
    "river_delta_cols = tuple(data_sheet.iter_cols(min_row=16, max_row=22, min_col=3, max_col=8, values_only=True))\n",
    "river_delta_cols = [tuple(xi for xi in x if xi is not None) for x in river_delta_cols]\n",
    "\n",
    "alluvial_fan_cols = tuple(data_sheet.iter_cols(min_row=24, max_row=26, min_col=3, max_col=8, values_only=True))\n",
    "alluvial_fan_cols = [tuple(xi for xi in x if xi is not None) for x in alluvial_fan_cols]\n",
    "\n",
    "desert_dune_cols = tuple(data_sheet.iter_cols(min_row=28, max_row=30, min_col=3, max_col=8, values_only=True))\n",
    "desert_dune_cols = [tuple(xi for xi in x if xi is not None) for x in desert_dune_cols]\n",
    "\n",
    "beach_cols = tuple(data_sheet.iter_cols(min_row=32, max_row=36, min_col=3, max_col=8, values_only=True))\n",
    "beach_cols = [tuple(xi for xi in x if xi is not None) for x in beach_cols]\n",
    "\n",
    "lagoon_cols = tuple(data_sheet.iter_cols(min_row=38, max_row=42, min_col=3, max_col=8, values_only=True))\n",
    "lagoon_cols = [tuple(xi for xi in x if xi is not None) for x in lagoon_cols]\n",
    "\n",
    "sh_marine_cols = tuple(data_sheet.iter_cols(min_row=44, max_row=50, min_col=3, max_col=8, values_only=True))\n",
    "sh_marine_cols = [tuple(xi for xi in x if xi is not None) for x in sh_marine_cols]\n",
    "\n",
    "reef_cols = tuple(data_sheet.iter_cols(min_row=52, max_row=56, min_col=3, max_col=8, values_only=True))\n",
    "reef_cols = [tuple(xi for xi in x if xi is not None) for x in reef_cols]\n",
    "\n",
    "deep_marine_cols = tuple(data_sheet.iter_cols(min_row=58, max_row=66, min_col=3, max_col=8, values_only=True))\n",
    "deep_marine_cols = [tuple(xi for xi in x if xi is not None) for x in deep_marine_cols]"
   ]
  },
  {
   "cell_type": "code",
   "execution_count": 20,
   "metadata": {},
   "outputs": [
    {
     "name": "stdout",
     "output_type": "stream",
     "text": [
      "(432, 6)\n",
      "(32, 6)\n",
      "(756, 6)\n",
      "(24, 6)\n",
      "(12, 6)\n",
      "(1280, 6)\n",
      "(30, 6)\n",
      "(1050, 6)\n",
      "(240, 6)\n",
      "(1296, 6)\n"
     ]
    }
   ],
   "source": [
    "def prepareStrings(items):\n",
    "    acc = []\n",
    "    for item_list in items:\n",
    "        if len(acc) == 0:\n",
    "            acc = list(map(lambda x: [x.strip().lower()] ,item_list))\n",
    "            continue\n",
    "        \n",
    "        current_acc = []\n",
    "        for item in item_list:\n",
    "            for line in acc:\n",
    "                current_acc.append(line + [item.strip().lower()])\n",
    "        acc = current_acc\n",
    "    return np.asarray(acc)\n",
    "\n",
    "\n",
    "all_strict_cases = (\n",
    "    river_channel_cols, \n",
    "    flood_plane_cols,\n",
    "    river_delta_cols, \n",
    "    alluvial_fan_cols,\n",
    "    desert_dune_cols, \n",
    "    beach_cols, \n",
    "    lagoon_cols,\n",
    "    sh_marine_cols,\n",
    "    reef_cols,\n",
    "    deep_marine_cols\n",
    ")\n",
    "\n",
    "all_strict_cases = tuple(map( lambda x: prepareStrings(x), all_strict_cases))\n",
    "\n",
    "for clas in all_strict_cases:\n",
    "    print(clas.shape)\n"
   ]
  },
  {
   "cell_type": "code",
   "execution_count": 21,
   "metadata": {},
   "outputs": [],
   "source": [
    "train_strings = np.concatenate(all_strict_cases)\n",
    "X_train = np.zeros((train_strings.shape[0], num_of_properties),dtype='float32')\n",
    "for index, st in enumerate(train_strings):\n",
    "    for prop in st:\n",
    "        X_train[index][terain_properties.index(prop)] = 1.0\n",
    "\n",
    "y_train = []\n",
    "for inx, data in enumerate(all_strict_cases):\n",
    "    y_train = np.concatenate((y_train, np.ones(data.shape[0])*inx))\n",
    "\n",
    "num_of_categories = len(all_strict_cases)\n",
    "# y_river = \n",
    "# y_flood_plane = np.ones(flood_plane.shape[0])*1\n",
    "# y_river_delta = np.ones(river_delta.shape[0])*2\n",
    "# y_alluvial_fan = np.ones(alluvial_fan.shape[0])*3\n",
    "# y_desert_dune = np.ones(desert_dune.shape[0])*4\n",
    "\n",
    "# y_train = np.concatenate((y_river, y_flood_plane, y_river_delta, y_alluvial_fan, y_desert_dune))\n",
    "\n",
    "y_train = to_categorical(y_train, num_of_categories)"
   ]
  },
  {
   "cell_type": "markdown",
   "metadata": {},
   "source": [
    "## Model"
   ]
  },
  {
   "cell_type": "code",
   "execution_count": 22,
   "metadata": {},
   "outputs": [
    {
     "name": "stdout",
     "output_type": "stream",
     "text": [
      "Model: \"sequential_5\"\n",
      "_________________________________________________________________\n",
      " Layer (type)                Output Shape              Param #   \n",
      "=================================================================\n",
      " dense_10 (Dense)            (None, 252)               18648     \n",
      "                                                                 \n",
      " dense_11 (Dense)            (None, 252)               63756     \n",
      "                                                                 \n",
      " dense_12 (Dense)            (None, 10)                2530      \n",
      "                                                                 \n",
      "=================================================================\n",
      "Total params: 84,934\n",
      "Trainable params: 84,934\n",
      "Non-trainable params: 0\n",
      "_________________________________________________________________\n",
      "None\n",
      "Epoch 1/20\n",
      "161/161 [==============================] - 2s 7ms/step - loss: 0.3507 - accuracy: 0.9128 - val_loss: 0.0393 - val_accuracy: 0.9847\n",
      "Epoch 2/20\n",
      "161/161 [==============================] - 1s 6ms/step - loss: 0.0345 - accuracy: 0.9858 - val_loss: 0.0397 - val_accuracy: 0.9860\n",
      "Epoch 3/20\n",
      "161/161 [==============================] - 1s 7ms/step - loss: 0.0362 - accuracy: 0.9854 - val_loss: 0.0240 - val_accuracy: 0.9860\n",
      "Epoch 4/20\n",
      "161/161 [==============================] - 1s 7ms/step - loss: 0.0309 - accuracy: 0.9849 - val_loss: 0.0268 - val_accuracy: 0.9860\n",
      "Epoch 5/20\n",
      "161/161 [==============================] - 1s 6ms/step - loss: 0.0293 - accuracy: 0.9843 - val_loss: 0.0213 - val_accuracy: 0.9860\n",
      "Epoch 6/20\n",
      "161/161 [==============================] - 1s 6ms/step - loss: 0.0250 - accuracy: 0.9856 - val_loss: 0.0335 - val_accuracy: 0.9860\n",
      "Epoch 7/20\n",
      "161/161 [==============================] - 1s 7ms/step - loss: 0.0259 - accuracy: 0.9868 - val_loss: 0.0270 - val_accuracy: 0.9860\n",
      "Epoch 8/20\n",
      "161/161 [==============================] - 1s 7ms/step - loss: 0.0269 - accuracy: 0.9827 - val_loss: 0.0252 - val_accuracy: 0.9860\n",
      "Epoch 9/20\n",
      "161/161 [==============================] - 1s 6ms/step - loss: 0.0263 - accuracy: 0.9816 - val_loss: 0.0207 - val_accuracy: 0.9860\n",
      "Epoch 10/20\n",
      "161/161 [==============================] - 1s 6ms/step - loss: 0.0236 - accuracy: 0.9868 - val_loss: 0.0390 - val_accuracy: 0.9860\n",
      "Epoch 11/20\n",
      "161/161 [==============================] - 1s 7ms/step - loss: 0.0253 - accuracy: 0.9856 - val_loss: 0.0246 - val_accuracy: 0.9860\n",
      "Epoch 12/20\n",
      "161/161 [==============================] - 1s 6ms/step - loss: 0.0245 - accuracy: 0.9819 - val_loss: 0.0234 - val_accuracy: 0.9860\n",
      "Epoch 13/20\n",
      "161/161 [==============================] - 1s 6ms/step - loss: 0.0253 - accuracy: 0.9849 - val_loss: 0.0234 - val_accuracy: 0.9860\n",
      "Epoch 14/20\n",
      "161/161 [==============================] - 1s 6ms/step - loss: 0.0232 - accuracy: 0.9847 - val_loss: 0.0203 - val_accuracy: 0.9860\n",
      "Epoch 15/20\n",
      "161/161 [==============================] - 1s 6ms/step - loss: 0.0234 - accuracy: 0.9845 - val_loss: 0.0209 - val_accuracy: 0.9860\n",
      "Epoch 16/20\n",
      "161/161 [==============================] - 1s 6ms/step - loss: 0.0227 - accuracy: 0.9860 - val_loss: 0.0240 - val_accuracy: 0.9860\n",
      "Epoch 17/20\n",
      "161/161 [==============================] - 1s 7ms/step - loss: 0.0220 - accuracy: 0.9847 - val_loss: 0.0216 - val_accuracy: 0.9860\n",
      "Epoch 18/20\n",
      "161/161 [==============================] - 1s 6ms/step - loss: 0.0223 - accuracy: 0.9864 - val_loss: 0.0220 - val_accuracy: 0.9860\n",
      "Epoch 19/20\n",
      "161/161 [==============================] - 1s 6ms/step - loss: 0.0233 - accuracy: 0.9849 - val_loss: 0.0210 - val_accuracy: 0.9860\n",
      "Epoch 20/20\n",
      "161/161 [==============================] - 1s 6ms/step - loss: 0.0216 - accuracy: 0.9839 - val_loss: 0.0241 - val_accuracy: 0.9860\n"
     ]
    }
   ],
   "source": [
    "model = Sequential()\n",
    "\n",
    "model.add(Dense(252, activation=\"relu\", input_shape=(num_of_properties,)))\n",
    "model.add(Dense(252,activation=\"relu\"))\n",
    "model.add(Dense(num_of_categories, activation='softmax'))\n",
    "\n",
    "model.compile(optimizer='adam', loss='categorical_crossentropy', metrics=['accuracy'])\n",
    "print(model.summary())\n",
    "\n",
    "history = model.fit(X_train, y_train, epochs=20, validation_data=(X_train, y_train))"
   ]
  },
  {
   "cell_type": "code",
   "execution_count": 23,
   "metadata": {},
   "outputs": [
    {
     "name": "stdout",
     "output_type": "stream",
     "text": [
      "INFO:tensorflow:Assets written to: ./models/newest.model\\assets\n"
     ]
    }
   ],
   "source": [
    "model.save('./models/newest.model')"
   ]
  }
 ],
 "metadata": {
  "interpreter": {
   "hash": "0b6ce98c3096834a7a501856e3303731ddbe0942f37d88665ab51c442e15a354"
  },
  "kernelspec": {
   "display_name": "Python 3.10.1 64-bit",
   "language": "python",
   "name": "python3"
  },
  "language_info": {
   "codemirror_mode": {
    "name": "ipython",
    "version": 3
   },
   "file_extension": ".py",
   "mimetype": "text/x-python",
   "name": "python",
   "nbconvert_exporter": "python",
   "pygments_lexer": "ipython3",
   "version": "3.10.1"
  },
  "orig_nbformat": 4
 },
 "nbformat": 4,
 "nbformat_minor": 2
}
