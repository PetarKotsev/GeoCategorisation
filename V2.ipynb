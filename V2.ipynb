{
 "cells": [
  {
   "cell_type": "markdown",
   "metadata": {},
   "source": [
    "## Requirements"
   ]
  },
  {
   "cell_type": "code",
   "execution_count": 1,
   "metadata": {},
   "outputs": [],
   "source": [
    "# Keras\n",
    "from keras.utils.np_utils import to_categorical\n",
    "from keras.models import Sequential, load_model\n",
    "from keras.layers import Dense\n",
    "# Util\n",
    "import numpy as np\n",
    "import matplotlib.pyplot as plt\n",
    "# Excell\n",
    "import openpyxl as xl"
   ]
  },
  {
   "cell_type": "markdown",
   "metadata": {},
   "source": [
    "## Processing data"
   ]
  },
  {
   "cell_type": "markdown",
   "metadata": {},
   "source": [
    "### Input leyer size"
   ]
  },
  {
   "cell_type": "code",
   "execution_count": 2,
   "metadata": {},
   "outputs": [],
   "source": [
    "# loading an existing workbook\n",
    "wb = xl.load_workbook('Geology Input for Petar Updated April 11th.xlsx')\n",
    "# Select the worksheet\n",
    "items_sheet = wb['Sheet1']\n",
    "# make an values only iterator over the items from row 5 to 15 and col 2 to 12.\n",
    "# turn it into a tuple. Take only the first element, the second one is empty\n",
    "terain_properties = list(items_sheet.iter_cols(min_row=1, max_col=1, min_col=1, values_only=True))[0]\n",
    "terain_properties = list(map(lambda x: x.strip().lower() , terain_properties))\n",
    "\n",
    "num_of_properties = len(terain_properties)"
   ]
  },
  {
   "cell_type": "markdown",
   "metadata": {},
   "source": [
    "### Getting training and testing data"
   ]
  },
  {
   "cell_type": "code",
   "execution_count": 3,
   "metadata": {},
   "outputs": [],
   "source": [
    "data_sheet = wb['Sheet2']\n",
    "\n",
    "river_channel_cols = tuple(data_sheet.iter_cols(min_row=4, max_row=7, min_col=3, max_col=8, values_only=True))\n",
    "river_channel_cols = [tuple(xi for xi in x if xi is not None) for x in river_channel_cols]\n",
    "\n",
    "flood_plane_cols = tuple(data_sheet.iter_cols(min_row=9, max_row=12, min_col=3, max_col=8, values_only=True))\n",
    "flood_plane_cols = [tuple(xi for xi in x if xi is not None) for x in flood_plane_cols]\n",
    "\n",
    "river_delta_cols = tuple(data_sheet.iter_cols(min_row=14, max_row=17, min_col=3, max_col=8, values_only=True))\n",
    "river_delta_cols = [tuple(xi for xi in x if xi is not None) for x in river_delta_cols]\n",
    "\n",
    "alluvial_fan_cols = tuple(data_sheet.iter_cols(min_row=19, max_row=23, min_col=3, max_col=8, values_only=True))\n",
    "alluvial_fan_cols = [tuple(xi for xi in x if xi is not None) for x in alluvial_fan_cols]\n",
    "\n",
    "desert_dune_cols = tuple(data_sheet.iter_cols(min_row=25, max_row=28, min_col=3, max_col=8, values_only=True))\n",
    "desert_dune_cols = [tuple(xi for xi in x if xi is not None) for x in desert_dune_cols]\n",
    "\n",
    "beach_cols = tuple(data_sheet.iter_cols(min_row=30, max_row=33, min_col=3, max_col=8, values_only=True))\n",
    "beach_cols = [tuple(xi for xi in x if xi is not None) for x in beach_cols]\n",
    "\n",
    "lagoon_cols = tuple(data_sheet.iter_cols(min_row=35, max_row=39, min_col=3, max_col=8, values_only=True))\n",
    "lagoon_cols = [tuple(xi for xi in x if xi is not None) for x in lagoon_cols]\n",
    "\n",
    "sh_marine_cols = tuple(data_sheet.iter_cols(min_row=41, max_row=46, min_col=3, max_col=8, values_only=True))\n",
    "sh_marine_cols = [tuple(xi for xi in x if xi is not None) for x in sh_marine_cols]\n",
    "\n",
    "reef_cols = tuple(data_sheet.iter_cols(min_row=48, max_row=52, min_col=3, max_col=8, values_only=True))\n",
    "reef_cols = [tuple(xi for xi in x if xi is not None) for x in reef_cols]\n",
    "\n",
    "deep_marine_cols = tuple(data_sheet.iter_cols(min_row=54, max_row=59, min_col=3, max_col=8, values_only=True))\n",
    "deep_marine_cols = [tuple(xi for xi in x if xi is not None) for x in deep_marine_cols]"
   ]
  },
  {
   "cell_type": "code",
   "execution_count": 4,
   "metadata": {},
   "outputs": [
    {
     "name": "stdout",
     "output_type": "stream",
     "text": [
      "(288, 6)\n",
      "(36, 6)\n",
      "(864, 6)\n",
      "(640, 6)\n",
      "(72, 6)\n",
      "(1024, 6)\n",
      "(360, 6)\n",
      "(4500, 6)\n",
      "(960, 6)\n",
      "(3600, 6)\n"
     ]
    }
   ],
   "source": [
    "def prepareStrings(items):\n",
    "    acc = []\n",
    "    for item_list in items:\n",
    "        if len(acc) == 0:\n",
    "            acc = list(map(lambda x: [x.strip().lower()] ,item_list))\n",
    "            continue\n",
    "        \n",
    "        current_acc = []\n",
    "        for item in item_list:\n",
    "            for line in acc:\n",
    "                current_acc.append(line + [item.strip().lower()])\n",
    "        acc = current_acc\n",
    "    return np.asarray(acc)\n",
    "\n",
    "\n",
    "all_strict_cases = (\n",
    "    river_channel_cols, \n",
    "    flood_plane_cols,\n",
    "    river_delta_cols, \n",
    "    alluvial_fan_cols,\n",
    "    desert_dune_cols, \n",
    "    beach_cols, \n",
    "    lagoon_cols,\n",
    "    sh_marine_cols,\n",
    "    reef_cols,\n",
    "    deep_marine_cols\n",
    ")\n",
    "\n",
    "all_strict_cases = tuple(map( lambda x: prepareStrings(x), all_strict_cases))\n",
    "\n",
    "for clas in all_strict_cases:\n",
    "    print(clas.shape)\n"
   ]
  },
  {
   "cell_type": "code",
   "execution_count": 5,
   "metadata": {},
   "outputs": [],
   "source": [
    "train_strings = np.concatenate(all_strict_cases)\n",
    "X_train = np.zeros((train_strings.shape[0], num_of_properties),dtype='float32')\n",
    "for index, st in enumerate(train_strings):\n",
    "    for prop in st:\n",
    "        X_train[index][terain_properties.index(prop)] = 1.0\n",
    "\n",
    "y_train = []\n",
    "for inx, data in enumerate(all_strict_cases):\n",
    "    y_train = np.concatenate((y_train, np.ones(data.shape[0])*inx))\n",
    "\n",
    "num_of_categories = len(all_strict_cases)\n",
    "\n",
    "y_train = to_categorical(y_train, num_of_categories)"
   ]
  },
  {
   "cell_type": "markdown",
   "metadata": {},
   "source": [
    "## Model"
   ]
  },
  {
   "cell_type": "code",
   "execution_count": 6,
   "metadata": {},
   "outputs": [
    {
     "name": "stdout",
     "output_type": "stream",
     "text": [
      "Model: \"sequential\"\n",
      "_________________________________________________________________\n",
      " Layer (type)                Output Shape              Param #   \n",
      "=================================================================\n",
      " dense (Dense)               (None, 10)                1060      \n",
      "                                                                 \n",
      "=================================================================\n",
      "Total params: 1,060\n",
      "Trainable params: 1,060\n",
      "Non-trainable params: 0\n",
      "_________________________________________________________________\n",
      "None\n",
      "Epoch 1/30\n",
      "386/386 [==============================] - 4s 6ms/step - loss: 1.2857 - accuracy: 0.7364 - val_loss: 0.7097 - val_accuracy: 0.8779\n",
      "Epoch 2/30\n",
      "386/386 [==============================] - 2s 5ms/step - loss: 0.4955 - accuracy: 0.9260 - val_loss: 0.3456 - val_accuracy: 0.9592\n",
      "Epoch 3/30\n",
      "386/386 [==============================] - 2s 5ms/step - loss: 0.2688 - accuracy: 0.9755 - val_loss: 0.2089 - val_accuracy: 0.9853\n",
      "Epoch 4/30\n",
      "386/386 [==============================] - 2s 5ms/step - loss: 0.1731 - accuracy: 0.9870 - val_loss: 0.1432 - val_accuracy: 0.9892\n",
      "Epoch 5/30\n",
      "386/386 [==============================] - 2s 6ms/step - loss: 0.1234 - accuracy: 0.9909 - val_loss: 0.1061 - val_accuracy: 0.9918\n",
      "Epoch 6/30\n",
      "386/386 [==============================] - 3s 7ms/step - loss: 0.0938 - accuracy: 0.9921 - val_loss: 0.0827 - val_accuracy: 0.9925\n",
      "Epoch 7/30\n",
      "386/386 [==============================] - 2s 6ms/step - loss: 0.0746 - accuracy: 0.9925 - val_loss: 0.0669 - val_accuracy: 0.9925\n",
      "Epoch 8/30\n",
      "386/386 [==============================] - 2s 6ms/step - loss: 0.0612 - accuracy: 0.9926 - val_loss: 0.0556 - val_accuracy: 0.9925\n",
      "Epoch 9/30\n",
      "386/386 [==============================] - 2s 5ms/step - loss: 0.0514 - accuracy: 0.9926 - val_loss: 0.0472 - val_accuracy: 0.9930\n",
      "Epoch 10/30\n",
      "386/386 [==============================] - 2s 5ms/step - loss: 0.0440 - accuracy: 0.9932 - val_loss: 0.0407 - val_accuracy: 0.9939\n",
      "Epoch 11/30\n",
      "386/386 [==============================] - 2s 5ms/step - loss: 0.0382 - accuracy: 0.9941 - val_loss: 0.0356 - val_accuracy: 0.9942\n",
      "Epoch 12/30\n",
      "386/386 [==============================] - 2s 5ms/step - loss: 0.0337 - accuracy: 0.9942 - val_loss: 0.0316 - val_accuracy: 0.9943\n",
      "Epoch 13/30\n",
      "386/386 [==============================] - 2s 6ms/step - loss: 0.0300 - accuracy: 0.9941 - val_loss: 0.0283 - val_accuracy: 0.9943\n",
      "Epoch 14/30\n",
      "386/386 [==============================] - 2s 6ms/step - loss: 0.0270 - accuracy: 0.9942 - val_loss: 0.0256 - val_accuracy: 0.9943\n",
      "Epoch 15/30\n",
      "386/386 [==============================] - 2s 4ms/step - loss: 0.0245 - accuracy: 0.9943 - val_loss: 0.0233 - val_accuracy: 0.9943\n",
      "Epoch 16/30\n",
      "386/386 [==============================] - 2s 5ms/step - loss: 0.0224 - accuracy: 0.9943 - val_loss: 0.0214 - val_accuracy: 0.9943\n",
      "Epoch 17/30\n",
      "386/386 [==============================] - 2s 5ms/step - loss: 0.0207 - accuracy: 0.9943 - val_loss: 0.0198 - val_accuracy: 0.9943\n",
      "Epoch 18/30\n",
      "386/386 [==============================] - 2s 4ms/step - loss: 0.0192 - accuracy: 0.9943 - val_loss: 0.0184 - val_accuracy: 0.9943\n",
      "Epoch 19/30\n",
      "386/386 [==============================] - 2s 5ms/step - loss: 0.0179 - accuracy: 0.9942 - val_loss: 0.0172 - val_accuracy: 0.9943\n",
      "Epoch 20/30\n",
      "386/386 [==============================] - 2s 5ms/step - loss: 0.0169 - accuracy: 0.9944 - val_loss: 0.0162 - val_accuracy: 0.9943\n",
      "Epoch 21/30\n",
      "386/386 [==============================] - 2s 6ms/step - loss: 0.0159 - accuracy: 0.9942 - val_loss: 0.0154 - val_accuracy: 0.9943\n",
      "Epoch 22/30\n",
      "386/386 [==============================] - 2s 5ms/step - loss: 0.0151 - accuracy: 0.9941 - val_loss: 0.0146 - val_accuracy: 0.9943\n",
      "Epoch 23/30\n",
      "386/386 [==============================] - 2s 5ms/step - loss: 0.0144 - accuracy: 0.9942 - val_loss: 0.0140 - val_accuracy: 0.9943\n",
      "Epoch 24/30\n",
      "386/386 [==============================] - 2s 5ms/step - loss: 0.0138 - accuracy: 0.9942 - val_loss: 0.0134 - val_accuracy: 0.9943\n",
      "Epoch 25/30\n",
      "386/386 [==============================] - 2s 5ms/step - loss: 0.0133 - accuracy: 0.9942 - val_loss: 0.0129 - val_accuracy: 0.9943\n",
      "Epoch 26/30\n",
      "386/386 [==============================] - 2s 5ms/step - loss: 0.0128 - accuracy: 0.9944 - val_loss: 0.0125 - val_accuracy: 0.9943\n",
      "Epoch 27/30\n",
      "386/386 [==============================] - 2s 6ms/step - loss: 0.0124 - accuracy: 0.9940 - val_loss: 0.0121 - val_accuracy: 0.9943\n",
      "Epoch 28/30\n",
      "386/386 [==============================] - 2s 5ms/step - loss: 0.0121 - accuracy: 0.9939 - val_loss: 0.0118 - val_accuracy: 0.9943\n",
      "Epoch 29/30\n",
      "386/386 [==============================] - 2s 6ms/step - loss: 0.0117 - accuracy: 0.9942 - val_loss: 0.0115 - val_accuracy: 0.9943\n",
      "Epoch 30/30\n",
      "386/386 [==============================] - 2s 5ms/step - loss: 0.0114 - accuracy: 0.9938 - val_loss: 0.0112 - val_accuracy: 0.9943\n"
     ]
    }
   ],
   "source": [
    "model = Sequential()\n",
    "\n",
    "# model.add(Dense(252, activation=\"sigmoid\", input_shape=(num_of_properties,)))\n",
    "# model.add(Dense(252,activation=\"sigmoid\"))\n",
    "# model.add(Dense(252,activation=\"sigmoid\"))\n",
    "model.add(Dense(num_of_categories, activation='sigmoid', input_shape=(num_of_properties,)))\n",
    "\n",
    "model.compile(optimizer='adam', loss='categorical_crossentropy', metrics=['accuracy'])\n",
    "print(model.summary())\n",
    "\n",
    "history = model.fit(X_train, y_train, epochs=30, validation_data=(X_train, y_train))"
   ]
  },
  {
   "cell_type": "code",
   "execution_count": 7,
   "metadata": {},
   "outputs": [
    {
     "name": "stdout",
     "output_type": "stream",
     "text": [
      "INFO:tensorflow:Assets written to: ./models/newest.model\\assets\n"
     ]
    }
   ],
   "source": [
    "model.save('./models/newest.model')"
   ]
  }
 ],
 "metadata": {
  "interpreter": {
   "hash": "0b6ce98c3096834a7a501856e3303731ddbe0942f37d88665ab51c442e15a354"
  },
  "kernelspec": {
   "display_name": "Python 3.10.1 64-bit",
   "language": "python",
   "name": "python3"
  },
  "language_info": {
   "codemirror_mode": {
    "name": "ipython",
    "version": 3
   },
   "file_extension": ".py",
   "mimetype": "text/x-python",
   "name": "python",
   "nbconvert_exporter": "python",
   "pygments_lexer": "ipython3",
   "version": "3.10.1"
  },
  "orig_nbformat": 4
 },
 "nbformat": 4,
 "nbformat_minor": 2
}
