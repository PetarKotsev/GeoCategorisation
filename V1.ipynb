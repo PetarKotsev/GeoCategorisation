{
 "cells": [
  {
   "cell_type": "markdown",
   "metadata": {},
   "source": [
    "## Requirements"
   ]
  },
  {
   "cell_type": "code",
   "execution_count": 1,
   "metadata": {},
   "outputs": [],
   "source": [
    "# Keras\n",
    "from keras.utils.np_utils import to_categorical\n",
    "from keras.models import Sequential, load_model\n",
    "from keras.layers import Dense\n",
    "# Util\n",
    "import numpy as np\n",
    "import matplotlib.pyplot as plt\n",
    "# Excell\n",
    "import openpyxl as xl"
   ]
  },
  {
   "cell_type": "markdown",
   "metadata": {},
   "source": [
    "## Processing data"
   ]
  },
  {
   "cell_type": "markdown",
   "metadata": {},
   "source": [
    "### Input leyer size"
   ]
  },
  {
   "cell_type": "code",
   "execution_count": 2,
   "metadata": {},
   "outputs": [],
   "source": [
    "# loading an existing workbook\n",
    "wb = xl.load_workbook('Geology Input for Petar Updated April 8th.xlsx')\n",
    "# Select the worksheet\n",
    "items_sheet = wb['Sheet1']\n",
    "# make an values only iterator over the items from row 5 to 15 and col 2 to 12.\n",
    "# turn it into a tuple. Take only the first element, the second one is empty\n",
    "terain_properties = list(items_sheet.iter_cols(min_row=1, max_col=2, min_col=2, values_only=True))[0]\n",
    "terain_properties = list(map(lambda x: x.strip().lower() , terain_properties))\n",
    "\n",
    "num_of_properties = len(terain_properties)"
   ]
  },
  {
   "cell_type": "markdown",
   "metadata": {},
   "source": [
    "### Getting training and testing data"
   ]
  },
  {
   "cell_type": "code",
   "execution_count": 3,
   "metadata": {},
   "outputs": [],
   "source": [
    "data_sheet = wb['Sheet2']\n",
    "\n",
    "river_channel_cols = tuple(data_sheet.iter_cols(min_row=4, max_row=9, min_col=3, max_col=8, values_only=True))\n",
    "river_channel_cols = [tuple(xi for xi in x if xi is not None) for x in river_channel_cols]\n",
    "\n",
    "flood_plane_cols = tuple(data_sheet.iter_cols(min_row=11, max_row=14, min_col=3, max_col=8, values_only=True))\n",
    "flood_plane_cols = [tuple(xi for xi in x if xi is not None) for x in flood_plane_cols]\n",
    "\n",
    "river_delta_cols = tuple(data_sheet.iter_cols(min_row=16, max_row=22, min_col=3, max_col=8, values_only=True))\n",
    "river_delta_cols = [tuple(xi for xi in x if xi is not None) for x in river_delta_cols]\n",
    "\n",
    "alluvial_fan_cols = tuple(data_sheet.iter_cols(min_row=24, max_row=26, min_col=3, max_col=8, values_only=True))\n",
    "alluvial_fan_cols = [tuple(xi for xi in x if xi is not None) for x in alluvial_fan_cols]\n",
    "\n",
    "desert_dune_cols = tuple(data_sheet.iter_cols(min_row=28, max_row=30, min_col=3, max_col=8, values_only=True))\n",
    "desert_dune_cols = [tuple(xi for xi in x if xi is not None) for x in desert_dune_cols]\n",
    "\n",
    "beach_cols = tuple(data_sheet.iter_cols(min_row=32, max_row=36, min_col=3, max_col=8, values_only=True))\n",
    "beach_cols = [tuple(xi for xi in x if xi is not None) for x in beach_cols]\n",
    "\n",
    "lagoon_cols = tuple(data_sheet.iter_cols(min_row=38, max_row=42, min_col=3, max_col=8, values_only=True))\n",
    "lagoon_cols = [tuple(xi for xi in x if xi is not None) for x in lagoon_cols]\n",
    "\n",
    "sh_marine_cols = tuple(data_sheet.iter_cols(min_row=44, max_row=50, min_col=3, max_col=8, values_only=True))\n",
    "sh_marine_cols = [tuple(xi for xi in x if xi is not None) for x in sh_marine_cols]\n",
    "\n",
    "reef_cols = tuple(data_sheet.iter_cols(min_row=52, max_row=56, min_col=3, max_col=8, values_only=True))\n",
    "reef_cols = [tuple(xi for xi in x if xi is not None) for x in reef_cols]\n",
    "\n",
    "deep_marine_cols = tuple(data_sheet.iter_cols(min_row=58, max_row=66, min_col=3, max_col=8, values_only=True))\n",
    "deep_marine_cols = [tuple(xi for xi in x if xi is not None) for x in deep_marine_cols]"
   ]
  },
  {
   "cell_type": "code",
   "execution_count": 4,
   "metadata": {},
   "outputs": [
    {
     "name": "stdout",
     "output_type": "stream",
     "text": [
      "(432, 6)\n",
      "(32, 6)\n",
      "(756, 6)\n",
      "(24, 6)\n",
      "(12, 6)\n",
      "(1280, 6)\n",
      "(30, 6)\n",
      "(1050, 6)\n",
      "(240, 6)\n",
      "(1296, 6)\n"
     ]
    }
   ],
   "source": [
    "def prepareStrings(items):\n",
    "    acc = []\n",
    "    for item_list in items:\n",
    "        if len(acc) == 0:\n",
    "            acc = list(map(lambda x: [x.strip().lower()] ,item_list))\n",
    "            continue\n",
    "        \n",
    "        current_acc = []\n",
    "        for item in item_list:\n",
    "            for line in acc:\n",
    "                current_acc.append(line + [item.strip().lower()])\n",
    "        acc = current_acc\n",
    "    return np.asarray(acc)\n",
    "\n",
    "\n",
    "all_strict_cases = (\n",
    "    river_channel_cols, \n",
    "    flood_plane_cols,\n",
    "    river_delta_cols, \n",
    "    alluvial_fan_cols,\n",
    "    desert_dune_cols, \n",
    "    beach_cols, \n",
    "    lagoon_cols,\n",
    "    sh_marine_cols,\n",
    "    reef_cols,\n",
    "    deep_marine_cols\n",
    ")\n",
    "\n",
    "all_strict_cases = tuple(map( lambda x: prepareStrings(x), all_strict_cases))\n",
    "\n",
    "for clas in all_strict_cases:\n",
    "    print(clas.shape)\n"
   ]
  },
  {
   "cell_type": "code",
   "execution_count": 5,
   "metadata": {},
   "outputs": [],
   "source": [
    "train_strings = np.concatenate(all_strict_cases)\n",
    "X_train = np.zeros((train_strings.shape[0], num_of_properties),dtype='float32')\n",
    "for index, st in enumerate(train_strings):\n",
    "    for prop in st:\n",
    "        X_train[index][terain_properties.index(prop)] = 1.0\n",
    "\n",
    "y_train = []\n",
    "for inx, data in enumerate(all_strict_cases):\n",
    "    y_train = np.concatenate((y_train, np.ones(data.shape[0])*inx))\n",
    "\n",
    "num_of_categories = len(all_strict_cases)\n",
    "\n",
    "y_train = to_categorical(y_train, num_of_categories)"
   ]
  },
  {
   "cell_type": "markdown",
   "metadata": {},
   "source": [
    "## Model"
   ]
  },
  {
   "cell_type": "code",
   "execution_count": 6,
   "metadata": {},
   "outputs": [
    {
     "name": "stdout",
     "output_type": "stream",
     "text": [
      "Model: \"sequential\"\n",
      "_________________________________________________________________\n",
      " Layer (type)                Output Shape              Param #   \n",
      "=================================================================\n",
      " dense (Dense)               (None, 252)               18648     \n",
      "                                                                 \n",
      " dense_1 (Dense)             (None, 10)                2530      \n",
      "                                                                 \n",
      "=================================================================\n",
      "Total params: 21,178\n",
      "Trainable params: 21,178\n",
      "Non-trainable params: 0\n",
      "_________________________________________________________________\n",
      "None\n",
      "Epoch 1/20\n",
      "161/161 [==============================] - 2s 7ms/step - loss: 1.1649 - accuracy: 0.7451 - val_loss: 0.6407 - val_accuracy: 0.9227\n",
      "Epoch 2/20\n",
      "161/161 [==============================] - 1s 5ms/step - loss: 0.4223 - accuracy: 0.9381 - val_loss: 0.2732 - val_accuracy: 0.9507\n",
      "Epoch 3/20\n",
      "161/161 [==============================] - 1s 6ms/step - loss: 0.2063 - accuracy: 0.9616 - val_loss: 0.1527 - val_accuracy: 0.9736\n",
      "Epoch 4/20\n",
      "161/161 [==============================] - 1s 5ms/step - loss: 0.1242 - accuracy: 0.9759 - val_loss: 0.0988 - val_accuracy: 0.9788\n",
      "Epoch 5/20\n",
      "161/161 [==============================] - 1s 5ms/step - loss: 0.0844 - accuracy: 0.9835 - val_loss: 0.0718 - val_accuracy: 0.9860\n",
      "Epoch 6/20\n",
      "161/161 [==============================] - 1s 4ms/step - loss: 0.0623 - accuracy: 0.9852 - val_loss: 0.0539 - val_accuracy: 0.9860\n",
      "Epoch 7/20\n",
      "161/161 [==============================] - 1s 5ms/step - loss: 0.0497 - accuracy: 0.9852 - val_loss: 0.0448 - val_accuracy: 0.9860\n",
      "Epoch 8/20\n",
      "161/161 [==============================] - 1s 5ms/step - loss: 0.0430 - accuracy: 0.9858 - val_loss: 0.0403 - val_accuracy: 0.9860\n",
      "Epoch 9/20\n",
      "161/161 [==============================] - 1s 4ms/step - loss: 0.0376 - accuracy: 0.9852 - val_loss: 0.0347 - val_accuracy: 0.9860\n",
      "Epoch 10/20\n",
      "161/161 [==============================] - 1s 4ms/step - loss: 0.0339 - accuracy: 0.9858 - val_loss: 0.0327 - val_accuracy: 0.9860\n",
      "Epoch 11/20\n",
      "161/161 [==============================] - 1s 4ms/step - loss: 0.0334 - accuracy: 0.9858 - val_loss: 0.0295 - val_accuracy: 0.9860\n",
      "Epoch 12/20\n",
      "161/161 [==============================] - 1s 5ms/step - loss: 0.0301 - accuracy: 0.9860 - val_loss: 0.0283 - val_accuracy: 0.9860\n",
      "Epoch 13/20\n",
      "161/161 [==============================] - 1s 4ms/step - loss: 0.0283 - accuracy: 0.9868 - val_loss: 0.0282 - val_accuracy: 0.9860\n",
      "Epoch 14/20\n",
      "161/161 [==============================] - 1s 4ms/step - loss: 0.0279 - accuracy: 0.9843 - val_loss: 0.0260 - val_accuracy: 0.9860\n",
      "Epoch 15/20\n",
      "161/161 [==============================] - 1s 4ms/step - loss: 0.0267 - accuracy: 0.9854 - val_loss: 0.0258 - val_accuracy: 0.9860\n",
      "Epoch 16/20\n",
      "161/161 [==============================] - 1s 5ms/step - loss: 0.0260 - accuracy: 0.9862 - val_loss: 0.0245 - val_accuracy: 0.9860\n",
      "Epoch 17/20\n",
      "161/161 [==============================] - 1s 5ms/step - loss: 0.0259 - accuracy: 0.9860 - val_loss: 0.0265 - val_accuracy: 0.9860\n",
      "Epoch 18/20\n",
      "161/161 [==============================] - 1s 5ms/step - loss: 0.0252 - accuracy: 0.9845 - val_loss: 0.0247 - val_accuracy: 0.9860\n",
      "Epoch 19/20\n",
      "161/161 [==============================] - 1s 5ms/step - loss: 0.0260 - accuracy: 0.9835 - val_loss: 0.0229 - val_accuracy: 0.9860\n",
      "Epoch 20/20\n",
      "161/161 [==============================] - 1s 6ms/step - loss: 0.0239 - accuracy: 0.9845 - val_loss: 0.0227 - val_accuracy: 0.9860\n"
     ]
    }
   ],
   "source": [
    "model = Sequential()\n",
    "\n",
    "model.add(Dense(252, activation=\"sigmoid\", input_shape=(num_of_properties,)))\n",
    "# model.add(Dense(252,activation=\"sigmoid\"))\n",
    "# model.add(Dense(252,activation=\"sigmoid\"))\n",
    "model.add(Dense(num_of_categories, activation='sigmoid'))\n",
    "\n",
    "model.compile(optimizer='adam', loss='categorical_crossentropy', metrics=['accuracy'])\n",
    "print(model.summary())\n",
    "\n",
    "history = model.fit(X_train, y_train, epochs=20, validation_data=(X_train, y_train))"
   ]
  },
  {
   "cell_type": "code",
   "execution_count": 7,
   "metadata": {},
   "outputs": [
    {
     "name": "stdout",
     "output_type": "stream",
     "text": [
      "INFO:tensorflow:Assets written to: ./models/newest.model\\assets\n"
     ]
    }
   ],
   "source": [
    "model.save('./models/newest.model')"
   ]
  }
 ],
 "metadata": {
  "interpreter": {
   "hash": "0b6ce98c3096834a7a501856e3303731ddbe0942f37d88665ab51c442e15a354"
  },
  "kernelspec": {
   "display_name": "Python 3.10.1 64-bit",
   "language": "python",
   "name": "python3"
  },
  "language_info": {
   "codemirror_mode": {
    "name": "ipython",
    "version": 3
   },
   "file_extension": ".py",
   "mimetype": "text/x-python",
   "name": "python",
   "nbconvert_exporter": "python",
   "pygments_lexer": "ipython3",
   "version": "3.10.1"
  },
  "orig_nbformat": 4
 },
 "nbformat": 4,
 "nbformat_minor": 2
}
